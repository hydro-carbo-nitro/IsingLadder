{
 "cells": [
  {
   "cell_type": "markdown",
   "id": "eacf0511",
   "metadata": {},
   "source": [
    "# Clustering algorithms"
   ]
  },
  {
   "cell_type": "code",
   "execution_count": 115,
   "id": "8951782e",
   "metadata": {},
   "outputs": [],
   "source": [
    "using Random\n",
    "using StatsBase\n",
    "using Plots\n",
    "using Statistics\n",
    "using LinearAlgebra"
   ]
  },
  {
   "cell_type": "code",
   "execution_count": 2,
   "id": "7618e120",
   "metadata": {},
   "outputs": [
    {
     "data": {
      "text/plain": [
       "InitLattice (generic function with 1 method)"
      ]
     },
     "execution_count": 2,
     "metadata": {},
     "output_type": "execute_result"
    }
   ],
   "source": [
    "function InitLattice(N)\n",
    "    #Lattice = ones(Int8, N) # all site is up\n",
    "    #Lattice = -1 * ones(Int8, N) # all site is down\n",
    "    Lattice = sample([-1, 1], Weights([1, 1]), N) # all site random\n",
    "    \n",
    "    return Lattice\n",
    "end"
   ]
  },
  {
   "cell_type": "code",
   "execution_count": 3,
   "id": "7956c4ee",
   "metadata": {},
   "outputs": [
    {
     "data": {
      "text/plain": [
       "PeriodicBoundaryCondition (generic function with 1 method)"
      ]
     },
     "execution_count": 3,
     "metadata": {},
     "output_type": "execute_result"
    }
   ],
   "source": [
    "function PeriodicBoundaryCondition(row, col)\n",
    "    # All site has 3 of degrees\n",
    "    adj = zeros(Int64, (row*col, 3))\n",
    "    \n",
    "    for i in 1:row\n",
    "        for j in 1:col\n",
    "            idx = (i-1)*col + j\n",
    "            #Horizontal\n",
    "            adj[idx, 1] = (i-1)*col + ((j + col) % col + 1)\n",
    "            adj[idx, 2] = (i-1)*col + ((j + col - 2) % col + 1)\n",
    "            #Vertical\n",
    "            if i==1\n",
    "                tmp3 = col + j\n",
    "                adj[idx, 3] = col + j\n",
    "            end\n",
    "            if i==2\n",
    "                tmp3 = j\n",
    "                adj[idx, 3] = j\n",
    "            end\n",
    "        end\n",
    "    end                \n",
    "    return adj\n",
    "end             "
   ]
  },
  {
   "cell_type": "code",
   "execution_count": 11,
   "id": "1561d61a",
   "metadata": {},
   "outputs": [
    {
     "data": {
      "text/plain": [
       "BootStrap (generic function with 2 methods)"
      ]
     },
     "execution_count": 11,
     "metadata": {},
     "output_type": "execute_result"
    }
   ],
   "source": [
    "function BootStrap(data, nSample, nBins, T, N)\n",
    "    mList = Vector{Float64}()\n",
    "    chiList = Vector{Float64}()\n",
    "    \n",
    "    for _ in 1:nSample\n",
    "        samples = sample(data, nBins, replace=false)\n",
    "        mag = mean(samples)\n",
    "        chi = N * (mean(samples .* samples) - mag*mag)/T # .* is elementwise product\n",
    "        \n",
    "        append!(mList, mag)\n",
    "        append!(chiList, chi)\n",
    "    end\n",
    "    \n",
    "    m = mean(mList)\n",
    "    chi = mean(chiList)\n",
    "    return m, chi\n",
    "end    "
   ]
  },
  {
   "cell_type": "code",
   "execution_count": 5,
   "id": "ea5cf1dc",
   "metadata": {},
   "outputs": [
    {
     "data": {
      "text/plain": [
       "BFS_Swendsen (generic function with 1 method)"
      ]
     },
     "execution_count": 5,
     "metadata": {},
     "output_type": "execute_result"
    }
   ],
   "source": [
    "function BFS_Swendsen(Lattice, adj, N, T, J)\n",
    "    Queue = zeros(Int64, N+1) # Queue for BFS\n",
    "    Cluster = zeros(Int64, N) # Cluster indexing of each nodes. 0 Value means that the node is not visited\n",
    "    ClusterID = 0\n",
    "    for idx in 1:N # search for all nodes\n",
    "        if Cluster[idx] == 0 # If start node is not visited\n",
    "            read = 1 # read pointer initialize\n",
    "            write = 1 # write pointer initialize\n",
    "            ClusterID+=1 # next cluster ID\n",
    "            \n",
    "            ndi = idx # start searching\n",
    "            Queue[write] = ndi # stack queue\n",
    "            write+=1 # move write pointer\n",
    "            Cluster[ndi] = ClusterID # regist node into cluster\n",
    "            \n",
    "            while(read != write) # until queue is empty\n",
    "                read+=1 # move read pointer\n",
    "                for degree in 1:3 # all node has 3 of degrees\n",
    "                    ndj = adj[ndi, degree] # choose one of neighbors\n",
    "                    if Cluster[ndj] == 0 # If the neighbor node is not visited\n",
    "                        if Lattice[ndi] == Lattice[ndj] # If two nodes have same spin\n",
    "                            if rand(Float64) < (1 - exp(-2 * J/T)) # With acceptance ratio\n",
    "                                Cluster[ndj] = ClusterID\n",
    "                                Queue[write] = ndj\n",
    "                                write+=1\n",
    "                            end\n",
    "                        end\n",
    "                    end\n",
    "                end\n",
    "                ndi = Queue[read]\n",
    "            end\n",
    "            \n",
    "        end\n",
    "    end\n",
    "    \n",
    "    return Cluster\n",
    "end "
   ]
  },
  {
   "cell_type": "code",
   "execution_count": 34,
   "id": "71fbe43e",
   "metadata": {},
   "outputs": [
    {
     "data": {
      "text/plain": [
       "BFS_Wolf (generic function with 1 method)"
      ]
     },
     "execution_count": 34,
     "metadata": {},
     "output_type": "execute_result"
    }
   ],
   "source": [
    "function BFS_Wolf(Lattice, adj, N, T, J)\n",
    "    Queue = zeros(Int64, N+1) # Queue for BFS\n",
    "    Visited = zeros(Int64, N) # Visited nodes. 0 Value means that the node is not visited\n",
    "    Cluster = Vector{Int64}() # Set of nodes which belong to cluster\n",
    "    idx = rand(1:N)\n",
    "\n",
    "    read = 1 # read pointer initialize\n",
    "    write = 1 # write pointer initialize\n",
    "\n",
    "    ndi = idx # start searching\n",
    "    Queue[write] = ndi # stack queue\n",
    "    write+=1 # move write pointer\n",
    "    Visited[ndi] = 1 # regist node into visited\n",
    "    append!(Cluster, ndi)\n",
    "\n",
    "    while(read != write) # until queue is empty\n",
    "        read+=1 # move read pointer\n",
    "        for degree in 1:3 # all node has 3 of degrees\n",
    "            ndj = adj[ndi, degree] # choose one of neighbors\n",
    "            if Visited[ndj] == 0 # If the neighbor node is not visited\n",
    "                if Lattice[ndi] == Lattice[ndj] # If two nodes have same spin\n",
    "                    if rand(Float64) < (1 - exp(-2 * J/T)) # With acceptance ratio\n",
    "                        Visited[ndj] = 1\n",
    "                        append!(Cluster, ndj)\n",
    "                        Queue[write] = ndj\n",
    "                        write+=1\n",
    "                    end\n",
    "                end\n",
    "            end\n",
    "        end\n",
    "        ndi = Queue[read]\n",
    "    end\n",
    "    \n",
    "    return Cluster\n",
    "end "
   ]
  },
  {
   "cell_type": "code",
   "execution_count": 7,
   "id": "3fab5c6e",
   "metadata": {},
   "outputs": [
    {
     "data": {
      "text/plain": [
       "Swendsen (generic function with 1 method)"
      ]
     },
     "execution_count": 7,
     "metadata": {},
     "output_type": "execute_result"
    }
   ],
   "source": [
    "function Swendsen(Lattice, adj, N, T, J)\n",
    "    Cluster = BFS_Swendsen(Lattice, adj, N, T, J)\n",
    "    nCluster = maximum(Cluster)\n",
    "    newSpin = sample([-1, 1], Weights([1, 1]), nCluster)\n",
    "    for idx in 1:N\n",
    "        Lattice[idx] = newSpin[Cluster[idx]]\n",
    "    end\n",
    "end"
   ]
  },
  {
   "cell_type": "code",
   "execution_count": 67,
   "id": "d7587bfe",
   "metadata": {},
   "outputs": [
    {
     "data": {
      "text/plain": [
       "Wolf (generic function with 1 method)"
      ]
     },
     "execution_count": 67,
     "metadata": {},
     "output_type": "execute_result"
    }
   ],
   "source": [
    "function Wolf(Lattice, adj, N, T, J)\n",
    "    Cluster = BFS_Wolf(Lattice, adj, N, T, J)\n",
    "    for idx in Cluster\n",
    "        Lattice[idx] *= -1\n",
    "    end\n",
    "end"
   ]
  },
  {
   "cell_type": "code",
   "execution_count": 191,
   "id": "d659a470",
   "metadata": {},
   "outputs": [
    {
     "data": {
      "text/plain": [
       "CorrelationFunction (generic function with 1 method)"
      ]
     },
     "execution_count": 191,
     "metadata": {},
     "output_type": "execute_result"
    }
   ],
   "source": [
    "function CorrelationFunction(Lattice)\n",
    "    N = length(Lattice)\n",
    "    L = N÷2\n",
    "    corLenList = Vector{Float64}()\n",
    "    term2 = mean(Lattice)\n",
    "    Ladder = reshape(Lattice, L, 2)\n",
    "    \n",
    "    tmp1 = Ladder[:, 1]\n",
    "    tmp2 = Ladder[:, 2]    \n",
    "    for j in 1:L÷2\n",
    "        push!(tmp1, popfirst!(tmp1))\n",
    "        push!(tmp2, popfirst!(tmp2))\n",
    "        shiftLattice = vcat(tmp1, tmp2)\n",
    "        term1 = mean(Lattice .* shiftLattice)\n",
    "        val = term1 - term2*term2\n",
    "        append!(corLenList, val)\n",
    "    end \n",
    "    return corLenList\n",
    "end"
   ]
  },
  {
   "cell_type": "code",
   "execution_count": 228,
   "id": "d36ef233",
   "metadata": {},
   "outputs": [
    {
     "data": {
      "text/plain": [
       "sampleSwendsen (generic function with 2 methods)"
      ]
     },
     "execution_count": 228,
     "metadata": {},
     "output_type": "execute_result"
    }
   ],
   "source": [
    "function sampleSwendsen(L, MCstep, adj, T, J, nSample)\n",
    "    for sample in 1:nSample\n",
    "        N = L*2\n",
    "        Lattice = InitLattice(N)\n",
    "        mStep = zeros(Float64, MCstep)\n",
    "        for step in 1:MCstep\n",
    "            Swendsen(Lattice, adj, N, T, J)\n",
    "            mStep[step] = abs(sum(Lattice)/N)\n",
    "        end\n",
    "        mpath = \"./data/raw/Swendsen_L$(L)_T$(T)_J$(J)_$(sample).dat\"\n",
    "\n",
    "        open(mpath, \"w\") do f\n",
    "            for value in mStep\n",
    "                println(f, value)\n",
    "            end\n",
    "        end\n",
    "\n",
    "        corLenList = CorrelationFunction(Lattice)\n",
    "        corpath = \"./data/correlation_length/Swendsen_L$(L)_T$(T)_J$(J)_$(sample).dat\"\n",
    "\n",
    "        open(corpath, \"w\") do f\n",
    "            for value in corLenList\n",
    "                println(f, value)\n",
    "            end\n",
    "        end\n",
    "    end\n",
    "    println(\"[L$(L), T$(T), J$(J), TotalSample$(nSample)]\")\n",
    "end"
   ]
  },
  {
   "cell_type": "code",
   "execution_count": 229,
   "id": "326a5cd7",
   "metadata": {},
   "outputs": [
    {
     "data": {
      "text/plain": [
       "IsingSwendsen (generic function with 3 methods)"
      ]
     },
     "execution_count": 229,
     "metadata": {},
     "output_type": "execute_result"
    }
   ],
   "source": [
    "function IsingSwendsen(LList, TList, JList, MCstep, nSample)\n",
    "    mSet = Vector{Float64}()\n",
    "    chiSet = Vector{Float64}()\n",
    "    \n",
    "    for J in JList\n",
    "        for L in LList\n",
    "            adj = PeriodicBoundaryCondition(2, L)        \n",
    "\n",
    "            for T in TList\n",
    "                @time sampleSwendsen(L, MCstep, adj, T, J, nSample)\n",
    "            end\n",
    "\n",
    "        end\n",
    "    end\n",
    "end"
   ]
  },
  {
   "cell_type": "code",
   "execution_count": 230,
   "id": "e5e54daa",
   "metadata": {},
   "outputs": [
    {
     "data": {
      "text/plain": [
       "IsingWolf (generic function with 1 method)"
      ]
     },
     "execution_count": 230,
     "metadata": {},
     "output_type": "execute_result"
    }
   ],
   "source": [
    "function IsingWolf(LList, TList, MCstep)\n",
    "    mSet = Vector{Float64}()\n",
    "    chiSet = Vector{Float64}()\n",
    "    for L in LList\n",
    "        N = L*2\n",
    "        adj = PeriodicBoundaryCondition(2, L)        \n",
    "\n",
    "        for T in TList\n",
    "            Lattice = InitLattice(N)\n",
    "            mStep = zeros(Float64, MCstep)\n",
    "\n",
    "            for step in 1:MCstep\n",
    "                Wolf(Lattice, adj, N, T, 1.0)\n",
    "                mStep[step] = abs(sum(Lattice)/N)\n",
    "            end\n",
    "            \n",
    "            m, chi = BootStrap(mStep, 100, 20, T, N)\n",
    "            append!(mSet, m)\n",
    "            append!(chiSet, chi)\n",
    "            println(\"[L$(L), T$(T)]\")\n",
    "        end\n",
    "        \n",
    "    end\n",
    "    \n",
    "    return mSet, chiSet\n",
    "end"
   ]
  },
  {
   "cell_type": "code",
   "execution_count": null,
   "id": "cc3e4c7a",
   "metadata": {},
   "outputs": [],
   "source": [
    "LList = [400, 800, 1600, 3200, 6400]\n",
    "TList = collect(range(start=0.8, stop=1.5, length=8))\n",
    "JList = collect(range(start=0.3, stop=2.1, length=7))\n",
    "\n",
    "IsingSwendsen(LList, TList, JList, 500, 10)\n",
    "#@time mList, chiList = IsingWolf(LList, TList, 1000) "
   ]
  },
  {
   "cell_type": "code",
   "execution_count": null,
   "id": "5951e8e5",
   "metadata": {},
   "outputs": [],
   "source": []
  }
 ],
 "metadata": {
  "kernelspec": {
   "display_name": "Julia 1.8.4",
   "language": "julia",
   "name": "julia-1.8"
  },
  "language_info": {
   "file_extension": ".jl",
   "mimetype": "application/julia",
   "name": "julia",
   "version": "1.8.4"
  }
 },
 "nbformat": 4,
 "nbformat_minor": 5
}
