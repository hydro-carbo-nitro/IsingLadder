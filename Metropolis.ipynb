{
 "cells": [
  {
   "cell_type": "markdown",
   "id": "52ce5f03",
   "metadata": {},
   "source": [
    "# Ising spins on a ladder"
   ]
  },
  {
   "cell_type": "markdown",
   "id": "763d1041",
   "metadata": {},
   "source": [
    "$$\n",
    "-\\beta\\mathcal{H} = K\\sum^2_{n=1}\\sum^M_{m=1}(S_{m,n}S_{m+1,n} + S_{m,n}S_{m,n+1})\n",
    "$$\n",
    "with periodic boundary condition"
   ]
  },
  {
   "cell_type": "code",
   "execution_count": 67,
   "id": "9dcdeab9",
   "metadata": {},
   "outputs": [
    {
     "name": "stdout",
     "output_type": "stream",
     "text": [
      "\n"
     ]
    }
   ],
   "source": [
    "using Random\n",
    "using StatsBase\n",
    "using Plots\n",
    "using Statistics\n",
    "println(\"\")"
   ]
  },
  {
   "cell_type": "markdown",
   "id": "658544f9",
   "metadata": {},
   "source": [
    "## Initiate Lattice"
   ]
  },
  {
   "cell_type": "code",
   "execution_count": 2,
   "id": "5eaffe74",
   "metadata": {},
   "outputs": [
    {
     "data": {
      "text/plain": [
       "InitLattice (generic function with 1 method)"
      ]
     },
     "execution_count": 2,
     "metadata": {},
     "output_type": "execute_result"
    }
   ],
   "source": [
    "function InitLattice(N)\n",
    "    #Lattice = ones(Int8, N) # all site is up\n",
    "    #Lattice = -1 * ones(Int8, N) # all site is down\n",
    "    Lattice = sample([-1, 1], Weights([1, 1]), N) # all site random\n",
    "    #Lattice = collect(1:N) # for debug\n",
    "    \n",
    "    return Lattice\n",
    "end"
   ]
  },
  {
   "cell_type": "markdown",
   "id": "caf4790a",
   "metadata": {},
   "source": [
    "## Periodic Boundary Condition"
   ]
  },
  {
   "cell_type": "code",
   "execution_count": 37,
   "id": "deff638a",
   "metadata": {},
   "outputs": [
    {
     "data": {
      "text/plain": [
       "PeriodicBoundaryCondition (generic function with 1 method)"
      ]
     },
     "execution_count": 37,
     "metadata": {},
     "output_type": "execute_result"
    }
   ],
   "source": [
    "function PeriodicBoundaryCondition(row, col)\n",
    "    # All site has 3 of degrees\n",
    "    adj = zeros(Int64, (row*col, 3))\n",
    "    \n",
    "    for i in 1:row\n",
    "        for j in 1:col\n",
    "            idx = (i-1)*col + j\n",
    "            #Horizontal\n",
    "            adj[idx, 1] = (i-1)*col + ((j + col) % col + 1)\n",
    "            adj[idx, 2] = (i-1)*col + ((j + col - 2) % col + 1)\n",
    "            #Vertical\n",
    "            if i==1\n",
    "                tmp3 = col + j\n",
    "                adj[idx, 3] = col + j\n",
    "            end\n",
    "            if i==2\n",
    "                tmp3 = j\n",
    "                adj[idx, 3] = j\n",
    "            end\n",
    "        end\n",
    "    end                \n",
    "    return adj\n",
    "end             "
   ]
  },
  {
   "cell_type": "markdown",
   "id": "f1da5951",
   "metadata": {},
   "source": [
    "## Breadth First Search for Swendsen"
   ]
  },
  {
   "cell_type": "code",
   "execution_count": 90,
   "id": "817d41d1",
   "metadata": {},
   "outputs": [
    {
     "data": {
      "text/plain": [
       "BFS_Swendsen (generic function with 1 method)"
      ]
     },
     "execution_count": 90,
     "metadata": {},
     "output_type": "execute_result"
    }
   ],
   "source": [
    "function BFS_Swendsen(Lattice, adj, N, T)\n",
    "    Queue = zeros(Int64, N+1) # Queue for BFS\n",
    "    Cluster = zeros(Int64, N) # Cluster indexing of each nodes. 0 Value means that the node is not visited\n",
    "    ClusterID = 0\n",
    "    for idx in 1:N # search for all nodes\n",
    "        if Cluster[idx] == 0 # If start node is not visited\n",
    "            read = 1 # read pointer initialize\n",
    "            write = 1 # write pointer initialize\n",
    "            ClusterID+=1 # next cluster ID\n",
    "            \n",
    "            ndi = idx # start searching\n",
    "            Queue[write] = ndi # stack queue\n",
    "            write+=1 # move write pointer\n",
    "            Cluster[ndi] = ClusterID # regist node into cluster\n",
    "            \n",
    "            while(read != write) # until queue is empty\n",
    "                read+=1 # move read pointer\n",
    "                for degree in 1:3 # all node has 3 of degrees\n",
    "                    ndj = adj[ndi, degree] # choose one of neighbors\n",
    "                    if Cluster[ndj] == 0 # If the neighbor node is not visited\n",
    "                        if Lattice[ndi] == Lattice[ndj] # If two nodes have same spin\n",
    "                            if rand(Float64) < (1 - exp(-10/T)) # With acceptance ratio\n",
    "                                Cluster[ndj] = ClusterID\n",
    "                                Queue[write] = ndj\n",
    "                                write+=1\n",
    "                            end\n",
    "                        end\n",
    "                    end\n",
    "                end\n",
    "                ndi = Queue[read]\n",
    "            end\n",
    "        end\n",
    "    end\n",
    "    \n",
    "    return Cluster\n",
    "end "
   ]
  },
  {
   "cell_type": "markdown",
   "id": "7bc73467",
   "metadata": {},
   "source": [
    "## Swendsen"
   ]
  },
  {
   "cell_type": "code",
   "execution_count": 91,
   "id": "7a5c940a",
   "metadata": {},
   "outputs": [
    {
     "data": {
      "text/plain": [
       "Swendsen (generic function with 1 method)"
      ]
     },
     "execution_count": 91,
     "metadata": {},
     "output_type": "execute_result"
    }
   ],
   "source": [
    "function Swendsen(Lattice, adj, N, T)\n",
    "    Cluster = BFS_Swendsen(Lattice, adj, N, T)\n",
    "    nCluster = maximum(Cluster)\n",
    "    newSpin = sample([-1, 1], Weights([1, 1]), nCluster)\n",
    "    for idx in 1:N\n",
    "        Lattice[idx] = newSpin[Cluster[idx]]\n",
    "    end\n",
    "end"
   ]
  },
  {
   "cell_type": "markdown",
   "id": "53a4a013",
   "metadata": {},
   "source": [
    "## Value Setting"
   ]
  },
  {
   "cell_type": "code",
   "execution_count": 92,
   "id": "83ca6d0b",
   "metadata": {},
   "outputs": [
    {
     "data": {
      "text/plain": [
       "4000"
      ]
     },
     "execution_count": 92,
     "metadata": {},
     "output_type": "execute_result"
    }
   ],
   "source": [
    "TList = collect(range(start=0.1, stop=5.0, length=50))\n",
    "MCstep = 2000\n",
    "K = 1.0\n",
    "\n",
    "length = 2000    # length of ladder\n",
    "N = length * 2 # number of site on ladder"
   ]
  },
  {
   "cell_type": "code",
   "execution_count": 93,
   "id": "14382c10",
   "metadata": {},
   "outputs": [
    {
     "name": "stdout",
     "output_type": "stream",
     "text": [
      "0.1    0.9967397499999999\n",
      "0.2    1.0\n",
      "0.3    1.0\n",
      "0.4    1.0\n",
      "0.5    1.0\n",
      "0.6    1.0\n",
      "0.7    1.0\n",
      "0.8    1.0\n",
      "0.9    1.0\n",
      "1.0    1.0\n",
      "1.1    1.0\n",
      "1.2    1.0\n",
      "1.3    1.0\n",
      "1.4    1.0\n",
      "1.5    1.0\n",
      "1.6    1.0\n",
      "1.7    1.0\n",
      "1.8    1.0\n",
      "1.9    0.999644\n",
      "2.0    0.9978735000000001\n",
      "2.1    0.99276375\n",
      "2.2    0.99167875\n",
      "2.3    0.97401675\n",
      "2.4    0.9426185\n",
      "2.5    0.91345075\n",
      "2.6    0.8294747499999999\n",
      "2.7    0.74511625\n",
      "2.8    0.6666609999999998\n",
      "2.9    0.5956442500000001\n",
      "3.0    0.49643875\n",
      "3.1    0.44911874999999996\n",
      "3.2    0.39618000000000003\n",
      "3.3    0.374669\n",
      "3.4    0.33067650000000004\n",
      "3.5    0.29968949999999994\n",
      "3.6    0.27178474999999996\n",
      "3.7    0.24879975000000001\n",
      "3.8    0.23014374999999998\n",
      "3.9    0.2133635\n",
      "4.0    0.20390999999999998\n",
      "4.1    0.1910205\n",
      "4.2    0.179933\n",
      "4.3    0.16716800000000004\n",
      "4.4    0.16162824999999997\n",
      "4.5    0.14903525\n",
      "4.6    0.1397835\n",
      "4.7    0.13139825\n",
      "4.8    0.12357225\n",
      "4.9    0.119244\n",
      "5.0    0.11723425\n"
     ]
    }
   ],
   "source": [
    "Lattice = InitLattice(N)\n",
    "adj = PeriodicBoundaryCondition(2, length)\n",
    "mList = Vector{Float64}()\n",
    "\n",
    "for T in TList\n",
    "    mStep = zeros(Float64, MCstep)\n",
    "    for step in 1:MCstep\n",
    "        Swendsen(Lattice, adj, N, T)\n",
    "        mStep[step] = abs(sum(Lattice)/N)\n",
    "    end\n",
    "    m = sum(mStep)/MCstep\n",
    "    append!(mList, m)\n",
    "    print(T)\n",
    "    print(\"    \")\n",
    "    print(m)\n",
    "    println(\"\")\n",
    "end\n",
    "\n",
    "\n"
   ]
  },
  {
   "cell_type": "code",
   "execution_count": 94,
   "id": "9d973fa7",
   "metadata": {},
   "outputs": [
    {
     "data": {
      "image/svg+xml": [
       "<?xml version=\"1.0\" encoding=\"utf-8\"?>\n",
       "<svg xmlns=\"http://www.w3.org/2000/svg\" xmlns:xlink=\"http://www.w3.org/1999/xlink\" width=\"600\" height=\"400\" viewBox=\"0 0 2400 1600\">\n",
       "<defs>\n",
       "  <clipPath id=\"clip390\">\n",
       "    <rect x=\"0\" y=\"0\" width=\"2400\" height=\"1600\"/>\n",
       "  </clipPath>\n",
       "</defs>\n",
       "<path clip-path=\"url(#clip390)\" d=\"\n",
       "M0 1600 L2400 1600 L2400 0 L0 0  Z\n",
       "  \" fill=\"#ffffff\" fill-rule=\"evenodd\" fill-opacity=\"1\"/>\n",
       "<defs>\n",
       "  <clipPath id=\"clip391\">\n",
       "    <rect x=\"480\" y=\"0\" width=\"1681\" height=\"1600\"/>\n",
       "  </clipPath>\n",
       "</defs>\n",
       "<path clip-path=\"url(#clip390)\" d=\"\n",
       "M156.598 1486.45 L2352.76 1486.45 L2352.76 47.2441 L156.598 47.2441  Z\n",
       "  \" fill=\"#ffffff\" fill-rule=\"evenodd\" fill-opacity=\"1\"/>\n",
       "<defs>\n",
       "  <clipPath id=\"clip392\">\n",
       "    <rect x=\"156\" y=\"47\" width=\"2197\" height=\"1440\"/>\n",
       "  </clipPath>\n",
       "</defs>\n",
       "<polyline clip-path=\"url(#clip392)\" style=\"stroke:#000000; stroke-linecap:round; stroke-linejoin:round; stroke-width:2; stroke-opacity:0.1; fill:none\" points=\"\n",
       "  176.471,1486.45 176.471,47.2441 \n",
       "  \"/>\n",
       "<polyline clip-path=\"url(#clip392)\" style=\"stroke:#000000; stroke-linecap:round; stroke-linejoin:round; stroke-width:2; stroke-opacity:0.1; fill:none\" points=\"\n",
       "  599.297,1486.45 599.297,47.2441 \n",
       "  \"/>\n",
       "<polyline clip-path=\"url(#clip392)\" style=\"stroke:#000000; stroke-linecap:round; stroke-linejoin:round; stroke-width:2; stroke-opacity:0.1; fill:none\" points=\"\n",
       "  1022.12,1486.45 1022.12,47.2441 \n",
       "  \"/>\n",
       "<polyline clip-path=\"url(#clip392)\" style=\"stroke:#000000; stroke-linecap:round; stroke-linejoin:round; stroke-width:2; stroke-opacity:0.1; fill:none\" points=\"\n",
       "  1444.95,1486.45 1444.95,47.2441 \n",
       "  \"/>\n",
       "<polyline clip-path=\"url(#clip392)\" style=\"stroke:#000000; stroke-linecap:round; stroke-linejoin:round; stroke-width:2; stroke-opacity:0.1; fill:none\" points=\"\n",
       "  1867.77,1486.45 1867.77,47.2441 \n",
       "  \"/>\n",
       "<polyline clip-path=\"url(#clip392)\" style=\"stroke:#000000; stroke-linecap:round; stroke-linejoin:round; stroke-width:2; stroke-opacity:0.1; fill:none\" points=\"\n",
       "  2290.6,1486.45 2290.6,47.2441 \n",
       "  \"/>\n",
       "<polyline clip-path=\"url(#clip390)\" style=\"stroke:#000000; stroke-linecap:round; stroke-linejoin:round; stroke-width:4; stroke-opacity:1; fill:none\" points=\"\n",
       "  156.598,1486.45 2352.76,1486.45 \n",
       "  \"/>\n",
       "<polyline clip-path=\"url(#clip390)\" style=\"stroke:#000000; stroke-linecap:round; stroke-linejoin:round; stroke-width:4; stroke-opacity:1; fill:none\" points=\"\n",
       "  176.471,1486.45 176.471,1467.55 \n",
       "  \"/>\n",
       "<polyline clip-path=\"url(#clip390)\" style=\"stroke:#000000; stroke-linecap:round; stroke-linejoin:round; stroke-width:4; stroke-opacity:1; fill:none\" points=\"\n",
       "  599.297,1486.45 599.297,1467.55 \n",
       "  \"/>\n",
       "<polyline clip-path=\"url(#clip390)\" style=\"stroke:#000000; stroke-linecap:round; stroke-linejoin:round; stroke-width:4; stroke-opacity:1; fill:none\" points=\"\n",
       "  1022.12,1486.45 1022.12,1467.55 \n",
       "  \"/>\n",
       "<polyline clip-path=\"url(#clip390)\" style=\"stroke:#000000; stroke-linecap:round; stroke-linejoin:round; stroke-width:4; stroke-opacity:1; fill:none\" points=\"\n",
       "  1444.95,1486.45 1444.95,1467.55 \n",
       "  \"/>\n",
       "<polyline clip-path=\"url(#clip390)\" style=\"stroke:#000000; stroke-linecap:round; stroke-linejoin:round; stroke-width:4; stroke-opacity:1; fill:none\" points=\"\n",
       "  1867.77,1486.45 1867.77,1467.55 \n",
       "  \"/>\n",
       "<polyline clip-path=\"url(#clip390)\" style=\"stroke:#000000; stroke-linecap:round; stroke-linejoin:round; stroke-width:4; stroke-opacity:1; fill:none\" points=\"\n",
       "  2290.6,1486.45 2290.6,1467.55 \n",
       "  \"/>\n",
       "<path clip-path=\"url(#clip390)\" d=\"M176.471 1517.37 Q172.86 1517.37 171.031 1520.93 Q169.226 1524.47 169.226 1531.6 Q169.226 1538.71 171.031 1542.27 Q172.86 1545.82 176.471 1545.82 Q180.105 1545.82 181.911 1542.27 Q183.74 1538.71 183.74 1531.6 Q183.74 1524.47 181.911 1520.93 Q180.105 1517.37 176.471 1517.37 M176.471 1513.66 Q182.281 1513.66 185.337 1518.27 Q188.415 1522.85 188.415 1531.6 Q188.415 1540.33 185.337 1544.94 Q182.281 1549.52 176.471 1549.52 Q170.661 1549.52 167.582 1544.94 Q164.527 1540.33 164.527 1531.6 Q164.527 1522.85 167.582 1518.27 Q170.661 1513.66 176.471 1513.66 Z\" fill=\"#000000\" fill-rule=\"evenodd\" fill-opacity=\"1\" /><path clip-path=\"url(#clip390)\" d=\"M573.985 1544.91 L581.623 1544.91 L581.623 1518.55 L573.313 1520.21 L573.313 1515.95 L581.577 1514.29 L586.253 1514.29 L586.253 1544.91 L593.892 1544.91 L593.892 1548.85 L573.985 1548.85 L573.985 1544.91 Z\" fill=\"#000000\" fill-rule=\"evenodd\" fill-opacity=\"1\" /><path clip-path=\"url(#clip390)\" d=\"M613.336 1517.37 Q609.725 1517.37 607.896 1520.93 Q606.091 1524.47 606.091 1531.6 Q606.091 1538.71 607.896 1542.27 Q609.725 1545.82 613.336 1545.82 Q616.97 1545.82 618.776 1542.27 Q620.605 1538.71 620.605 1531.6 Q620.605 1524.47 618.776 1520.93 Q616.97 1517.37 613.336 1517.37 M613.336 1513.66 Q619.146 1513.66 622.202 1518.27 Q625.281 1522.85 625.281 1531.6 Q625.281 1540.33 622.202 1544.94 Q619.146 1549.52 613.336 1549.52 Q607.526 1549.52 604.447 1544.94 Q601.392 1540.33 601.392 1531.6 Q601.392 1522.85 604.447 1518.27 Q607.526 1513.66 613.336 1513.66 Z\" fill=\"#000000\" fill-rule=\"evenodd\" fill-opacity=\"1\" /><path clip-path=\"url(#clip390)\" d=\"M1000.9 1544.91 L1017.22 1544.91 L1017.22 1548.85 L995.271 1548.85 L995.271 1544.91 Q997.933 1542.16 1002.52 1537.53 Q1007.12 1532.88 1008.3 1531.53 Q1010.55 1529.01 1011.43 1527.27 Q1012.33 1525.51 1012.33 1523.82 Q1012.33 1521.07 1010.39 1519.33 Q1008.47 1517.6 1005.36 1517.6 Q1003.16 1517.6 1000.71 1518.36 Q998.28 1519.13 995.503 1520.68 L995.503 1515.95 Q998.327 1514.82 1000.78 1514.24 Q1003.23 1513.66 1005.27 1513.66 Q1010.64 1513.66 1013.84 1516.35 Q1017.03 1519.03 1017.03 1523.52 Q1017.03 1525.65 1016.22 1527.57 Q1015.43 1529.47 1013.33 1532.07 Q1012.75 1532.74 1009.65 1535.95 Q1006.54 1539.15 1000.9 1544.91 Z\" fill=\"#000000\" fill-rule=\"evenodd\" fill-opacity=\"1\" /><path clip-path=\"url(#clip390)\" d=\"M1037.03 1517.37 Q1033.42 1517.37 1031.59 1520.93 Q1029.78 1524.47 1029.78 1531.6 Q1029.78 1538.71 1031.59 1542.27 Q1033.42 1545.82 1037.03 1545.82 Q1040.66 1545.82 1042.47 1542.27 Q1044.3 1538.71 1044.3 1531.6 Q1044.3 1524.47 1042.47 1520.93 Q1040.66 1517.37 1037.03 1517.37 M1037.03 1513.66 Q1042.84 1513.66 1045.9 1518.27 Q1048.97 1522.85 1048.97 1531.6 Q1048.97 1540.33 1045.9 1544.94 Q1042.84 1549.52 1037.03 1549.52 Q1031.22 1549.52 1028.14 1544.94 Q1025.09 1540.33 1025.09 1531.6 Q1025.09 1522.85 1028.14 1518.27 Q1031.22 1513.66 1037.03 1513.66 Z\" fill=\"#000000\" fill-rule=\"evenodd\" fill-opacity=\"1\" /><path clip-path=\"url(#clip390)\" d=\"M1433.79 1530.21 Q1437.15 1530.93 1439.02 1533.2 Q1440.92 1535.47 1440.92 1538.8 Q1440.92 1543.92 1437.4 1546.72 Q1433.88 1549.52 1427.4 1549.52 Q1425.23 1549.52 1422.91 1549.08 Q1420.62 1548.66 1418.17 1547.81 L1418.17 1543.29 Q1420.11 1544.43 1422.43 1545.01 Q1424.74 1545.58 1427.26 1545.58 Q1431.66 1545.58 1433.95 1543.85 Q1436.27 1542.11 1436.27 1538.8 Q1436.27 1535.75 1434.12 1534.03 Q1431.99 1532.3 1428.17 1532.3 L1424.14 1532.3 L1424.14 1528.45 L1428.35 1528.45 Q1431.8 1528.45 1433.63 1527.09 Q1435.46 1525.7 1435.46 1523.11 Q1435.46 1520.45 1433.56 1519.03 Q1431.68 1517.6 1428.17 1517.6 Q1426.25 1517.6 1424.05 1518.01 Q1421.85 1518.43 1419.21 1519.31 L1419.21 1515.14 Q1421.87 1514.4 1424.18 1514.03 Q1426.52 1513.66 1428.58 1513.66 Q1433.91 1513.66 1437.01 1516.09 Q1440.11 1518.5 1440.11 1522.62 Q1440.11 1525.49 1438.47 1527.48 Q1436.82 1529.45 1433.79 1530.21 Z\" fill=\"#000000\" fill-rule=\"evenodd\" fill-opacity=\"1\" /><path clip-path=\"url(#clip390)\" d=\"M1459.79 1517.37 Q1456.18 1517.37 1454.35 1520.93 Q1452.54 1524.47 1452.54 1531.6 Q1452.54 1538.71 1454.35 1542.27 Q1456.18 1545.82 1459.79 1545.82 Q1463.42 1545.82 1465.23 1542.27 Q1467.06 1538.71 1467.06 1531.6 Q1467.06 1524.47 1465.23 1520.93 Q1463.42 1517.37 1459.79 1517.37 M1459.79 1513.66 Q1465.6 1513.66 1468.65 1518.27 Q1471.73 1522.85 1471.73 1531.6 Q1471.73 1540.33 1468.65 1544.94 Q1465.6 1549.52 1459.79 1549.52 Q1453.98 1549.52 1450.9 1544.94 Q1447.84 1540.33 1447.84 1531.6 Q1447.84 1522.85 1450.9 1518.27 Q1453.98 1513.66 1459.79 1513.66 Z\" fill=\"#000000\" fill-rule=\"evenodd\" fill-opacity=\"1\" /><path clip-path=\"url(#clip390)\" d=\"M1855.95 1518.36 L1844.14 1536.81 L1855.95 1536.81 L1855.95 1518.36 M1854.72 1514.29 L1860.6 1514.29 L1860.6 1536.81 L1865.53 1536.81 L1865.53 1540.7 L1860.6 1540.7 L1860.6 1548.85 L1855.95 1548.85 L1855.95 1540.7 L1840.34 1540.7 L1840.34 1536.19 L1854.72 1514.29 Z\" fill=\"#000000\" fill-rule=\"evenodd\" fill-opacity=\"1\" /><path clip-path=\"url(#clip390)\" d=\"M1883.26 1517.37 Q1879.65 1517.37 1877.82 1520.93 Q1876.02 1524.47 1876.02 1531.6 Q1876.02 1538.71 1877.82 1542.27 Q1879.65 1545.82 1883.26 1545.82 Q1886.89 1545.82 1888.7 1542.27 Q1890.53 1538.71 1890.53 1531.6 Q1890.53 1524.47 1888.7 1520.93 Q1886.89 1517.37 1883.26 1517.37 M1883.26 1513.66 Q1889.07 1513.66 1892.13 1518.27 Q1895.21 1522.85 1895.21 1531.6 Q1895.21 1540.33 1892.13 1544.94 Q1889.07 1549.52 1883.26 1549.52 Q1877.45 1549.52 1874.37 1544.94 Q1871.32 1540.33 1871.32 1531.6 Q1871.32 1522.85 1874.37 1518.27 Q1877.45 1513.66 1883.26 1513.66 Z\" fill=\"#000000\" fill-rule=\"evenodd\" fill-opacity=\"1\" /><path clip-path=\"url(#clip390)\" d=\"M2265.3 1514.29 L2283.66 1514.29 L2283.66 1518.22 L2269.58 1518.22 L2269.58 1526.7 Q2270.6 1526.35 2271.62 1526.19 Q2272.64 1526 2273.66 1526 Q2279.44 1526 2282.82 1529.17 Q2286.2 1532.34 2286.2 1537.76 Q2286.2 1543.34 2282.73 1546.44 Q2279.26 1549.52 2272.94 1549.52 Q2270.76 1549.52 2268.49 1549.15 Q2266.25 1548.78 2263.84 1548.04 L2263.84 1543.34 Q2265.92 1544.47 2268.15 1545.03 Q2270.37 1545.58 2272.85 1545.58 Q2276.85 1545.58 2279.19 1543.48 Q2281.53 1541.37 2281.53 1537.76 Q2281.53 1534.15 2279.19 1532.04 Q2276.85 1529.94 2272.85 1529.94 Q2270.97 1529.94 2269.1 1530.35 Q2267.24 1530.77 2265.3 1531.65 L2265.3 1514.29 Z\" fill=\"#000000\" fill-rule=\"evenodd\" fill-opacity=\"1\" /><path clip-path=\"url(#clip390)\" d=\"M2305.42 1517.37 Q2301.8 1517.37 2299.98 1520.93 Q2298.17 1524.47 2298.17 1531.6 Q2298.17 1538.71 2299.98 1542.27 Q2301.8 1545.82 2305.42 1545.82 Q2309.05 1545.82 2310.86 1542.27 Q2312.68 1538.71 2312.68 1531.6 Q2312.68 1524.47 2310.86 1520.93 Q2309.05 1517.37 2305.42 1517.37 M2305.42 1513.66 Q2311.23 1513.66 2314.28 1518.27 Q2317.36 1522.85 2317.36 1531.6 Q2317.36 1540.33 2314.28 1544.94 Q2311.23 1549.52 2305.42 1549.52 Q2299.61 1549.52 2296.53 1544.94 Q2293.47 1540.33 2293.47 1531.6 Q2293.47 1522.85 2296.53 1518.27 Q2299.61 1513.66 2305.42 1513.66 Z\" fill=\"#000000\" fill-rule=\"evenodd\" fill-opacity=\"1\" /><polyline clip-path=\"url(#clip392)\" style=\"stroke:#000000; stroke-linecap:round; stroke-linejoin:round; stroke-width:2; stroke-opacity:0.1; fill:none\" points=\"\n",
       "  156.598,1486.45 2352.76,1486.45 \n",
       "  \"/>\n",
       "<polyline clip-path=\"url(#clip392)\" style=\"stroke:#000000; stroke-linecap:round; stroke-linejoin:round; stroke-width:2; stroke-opacity:0.1; fill:none\" points=\"\n",
       "  156.598,1198.61 2352.76,1198.61 \n",
       "  \"/>\n",
       "<polyline clip-path=\"url(#clip392)\" style=\"stroke:#000000; stroke-linecap:round; stroke-linejoin:round; stroke-width:2; stroke-opacity:0.1; fill:none\" points=\"\n",
       "  156.598,910.766 2352.76,910.766 \n",
       "  \"/>\n",
       "<polyline clip-path=\"url(#clip392)\" style=\"stroke:#000000; stroke-linecap:round; stroke-linejoin:round; stroke-width:2; stroke-opacity:0.1; fill:none\" points=\"\n",
       "  156.598,622.926 2352.76,622.926 \n",
       "  \"/>\n",
       "<polyline clip-path=\"url(#clip392)\" style=\"stroke:#000000; stroke-linecap:round; stroke-linejoin:round; stroke-width:2; stroke-opacity:0.1; fill:none\" points=\"\n",
       "  156.598,335.085 2352.76,335.085 \n",
       "  \"/>\n",
       "<polyline clip-path=\"url(#clip392)\" style=\"stroke:#000000; stroke-linecap:round; stroke-linejoin:round; stroke-width:2; stroke-opacity:0.1; fill:none\" points=\"\n",
       "  156.598,47.2441 2352.76,47.2441 \n",
       "  \"/>\n",
       "<polyline clip-path=\"url(#clip390)\" style=\"stroke:#000000; stroke-linecap:round; stroke-linejoin:round; stroke-width:4; stroke-opacity:1; fill:none\" points=\"\n",
       "  156.598,1486.45 156.598,47.2441 \n",
       "  \"/>\n",
       "<polyline clip-path=\"url(#clip390)\" style=\"stroke:#000000; stroke-linecap:round; stroke-linejoin:round; stroke-width:4; stroke-opacity:1; fill:none\" points=\"\n",
       "  156.598,1486.45 175.496,1486.45 \n",
       "  \"/>\n",
       "<polyline clip-path=\"url(#clip390)\" style=\"stroke:#000000; stroke-linecap:round; stroke-linejoin:round; stroke-width:4; stroke-opacity:1; fill:none\" points=\"\n",
       "  156.598,1198.61 175.496,1198.61 \n",
       "  \"/>\n",
       "<polyline clip-path=\"url(#clip390)\" style=\"stroke:#000000; stroke-linecap:round; stroke-linejoin:round; stroke-width:4; stroke-opacity:1; fill:none\" points=\"\n",
       "  156.598,910.766 175.496,910.766 \n",
       "  \"/>\n",
       "<polyline clip-path=\"url(#clip390)\" style=\"stroke:#000000; stroke-linecap:round; stroke-linejoin:round; stroke-width:4; stroke-opacity:1; fill:none\" points=\"\n",
       "  156.598,622.926 175.496,622.926 \n",
       "  \"/>\n",
       "<polyline clip-path=\"url(#clip390)\" style=\"stroke:#000000; stroke-linecap:round; stroke-linejoin:round; stroke-width:4; stroke-opacity:1; fill:none\" points=\"\n",
       "  156.598,335.085 175.496,335.085 \n",
       "  \"/>\n",
       "<polyline clip-path=\"url(#clip390)\" style=\"stroke:#000000; stroke-linecap:round; stroke-linejoin:round; stroke-width:4; stroke-opacity:1; fill:none\" points=\"\n",
       "  156.598,47.2441 175.496,47.2441 \n",
       "  \"/>\n",
       "<path clip-path=\"url(#clip390)\" d=\"M63.4226 1472.25 Q59.8115 1472.25 57.9828 1475.81 Q56.1773 1479.35 56.1773 1486.48 Q56.1773 1493.59 57.9828 1497.15 Q59.8115 1500.7 63.4226 1500.7 Q67.0569 1500.7 68.8624 1497.15 Q70.6911 1493.59 70.6911 1486.48 Q70.6911 1479.35 68.8624 1475.81 Q67.0569 1472.25 63.4226 1472.25 M63.4226 1468.54 Q69.2328 1468.54 72.2883 1473.15 Q75.367 1477.73 75.367 1486.48 Q75.367 1495.21 72.2883 1499.82 Q69.2328 1504.4 63.4226 1504.4 Q57.6125 1504.4 54.5338 1499.82 Q51.4782 1495.21 51.4782 1486.48 Q51.4782 1477.73 54.5338 1473.15 Q57.6125 1468.54 63.4226 1468.54 Z\" fill=\"#000000\" fill-rule=\"evenodd\" fill-opacity=\"1\" /><path clip-path=\"url(#clip390)\" d=\"M83.5845 1497.85 L88.4688 1497.85 L88.4688 1503.73 L83.5845 1503.73 L83.5845 1497.85 Z\" fill=\"#000000\" fill-rule=\"evenodd\" fill-opacity=\"1\" /><path clip-path=\"url(#clip390)\" d=\"M108.654 1472.25 Q105.043 1472.25 103.214 1475.81 Q101.409 1479.35 101.409 1486.48 Q101.409 1493.59 103.214 1497.15 Q105.043 1500.7 108.654 1500.7 Q112.288 1500.7 114.094 1497.15 Q115.922 1493.59 115.922 1486.48 Q115.922 1479.35 114.094 1475.81 Q112.288 1472.25 108.654 1472.25 M108.654 1468.54 Q114.464 1468.54 117.52 1473.15 Q120.598 1477.73 120.598 1486.48 Q120.598 1495.21 117.52 1499.82 Q114.464 1504.4 108.654 1504.4 Q102.844 1504.4 99.765 1499.82 Q96.7095 1495.21 96.7095 1486.48 Q96.7095 1477.73 99.765 1473.15 Q102.844 1468.54 108.654 1468.54 Z\" fill=\"#000000\" fill-rule=\"evenodd\" fill-opacity=\"1\" /><path clip-path=\"url(#clip390)\" d=\"M65.0198 1184.41 Q61.4087 1184.41 59.58 1187.97 Q57.7745 1191.51 57.7745 1198.64 Q57.7745 1205.75 59.58 1209.31 Q61.4087 1212.85 65.0198 1212.85 Q68.6541 1212.85 70.4596 1209.31 Q72.2883 1205.75 72.2883 1198.64 Q72.2883 1191.51 70.4596 1187.97 Q68.6541 1184.41 65.0198 1184.41 M65.0198 1180.7 Q70.83 1180.7 73.8855 1185.31 Q76.9642 1189.89 76.9642 1198.64 Q76.9642 1207.37 73.8855 1211.98 Q70.83 1216.56 65.0198 1216.56 Q59.2097 1216.56 56.131 1211.98 Q53.0754 1207.37 53.0754 1198.64 Q53.0754 1189.89 56.131 1185.31 Q59.2097 1180.7 65.0198 1180.7 Z\" fill=\"#000000\" fill-rule=\"evenodd\" fill-opacity=\"1\" /><path clip-path=\"url(#clip390)\" d=\"M85.1818 1210.01 L90.066 1210.01 L90.066 1215.89 L85.1818 1215.89 L85.1818 1210.01 Z\" fill=\"#000000\" fill-rule=\"evenodd\" fill-opacity=\"1\" /><path clip-path=\"url(#clip390)\" d=\"M104.279 1211.95 L120.598 1211.95 L120.598 1215.89 L98.6539 1215.89 L98.6539 1211.95 Q101.316 1209.2 105.899 1204.57 Q110.506 1199.91 111.686 1198.57 Q113.932 1196.05 114.811 1194.31 Q115.714 1192.55 115.714 1190.86 Q115.714 1188.11 113.77 1186.37 Q111.848 1184.64 108.746 1184.64 Q106.547 1184.64 104.094 1185.4 Q101.663 1186.17 98.8854 1187.72 L98.8854 1182.99 Q101.709 1181.86 104.163 1181.28 Q106.617 1180.7 108.654 1180.7 Q114.024 1180.7 117.219 1183.39 Q120.413 1186.07 120.413 1190.56 Q120.413 1192.69 119.603 1194.61 Q118.816 1196.51 116.709 1199.1 Q116.131 1199.78 113.029 1202.99 Q109.927 1206.19 104.279 1211.95 Z\" fill=\"#000000\" fill-rule=\"evenodd\" fill-opacity=\"1\" /><path clip-path=\"url(#clip390)\" d=\"M62.9365 896.565 Q59.3254 896.565 57.4967 900.13 Q55.6912 903.671 55.6912 910.801 Q55.6912 917.908 57.4967 921.472 Q59.3254 925.014 62.9365 925.014 Q66.5707 925.014 68.3763 921.472 Q70.205 917.908 70.205 910.801 Q70.205 903.671 68.3763 900.13 Q66.5707 896.565 62.9365 896.565 M62.9365 892.861 Q68.7467 892.861 71.8022 897.468 Q74.8809 902.051 74.8809 910.801 Q74.8809 919.528 71.8022 924.134 Q68.7467 928.718 62.9365 928.718 Q57.1264 928.718 54.0477 924.134 Q50.9921 919.528 50.9921 910.801 Q50.9921 902.051 54.0477 897.468 Q57.1264 892.861 62.9365 892.861 Z\" fill=\"#000000\" fill-rule=\"evenodd\" fill-opacity=\"1\" /><path clip-path=\"url(#clip390)\" d=\"M83.0984 922.167 L87.9827 922.167 L87.9827 928.046 L83.0984 928.046 L83.0984 922.167 Z\" fill=\"#000000\" fill-rule=\"evenodd\" fill-opacity=\"1\" /><path clip-path=\"url(#clip390)\" d=\"M111.015 897.56 L99.2095 916.009 L111.015 916.009 L111.015 897.56 M109.788 893.486 L115.668 893.486 L115.668 916.009 L120.598 916.009 L120.598 919.898 L115.668 919.898 L115.668 928.046 L111.015 928.046 L111.015 919.898 L95.4132 919.898 L95.4132 915.384 L109.788 893.486 Z\" fill=\"#000000\" fill-rule=\"evenodd\" fill-opacity=\"1\" /><path clip-path=\"url(#clip390)\" d=\"M63.2606 608.724 Q59.6495 608.724 57.8208 612.289 Q56.0152 615.831 56.0152 622.96 Q56.0152 630.067 57.8208 633.632 Q59.6495 637.173 63.2606 637.173 Q66.8948 637.173 68.7004 633.632 Q70.5291 630.067 70.5291 622.96 Q70.5291 615.831 68.7004 612.289 Q66.8948 608.724 63.2606 608.724 M63.2606 605.021 Q69.0707 605.021 72.1263 609.627 Q75.205 614.21 75.205 622.96 Q75.205 631.687 72.1263 636.294 Q69.0707 640.877 63.2606 640.877 Q57.4504 640.877 54.3717 636.294 Q51.3162 631.687 51.3162 622.96 Q51.3162 614.21 54.3717 609.627 Q57.4504 605.021 63.2606 605.021 Z\" fill=\"#000000\" fill-rule=\"evenodd\" fill-opacity=\"1\" /><path clip-path=\"url(#clip390)\" d=\"M83.4225 634.326 L88.3067 634.326 L88.3067 640.206 L83.4225 640.206 L83.4225 634.326 Z\" fill=\"#000000\" fill-rule=\"evenodd\" fill-opacity=\"1\" /><path clip-path=\"url(#clip390)\" d=\"M109.071 621.062 Q105.922 621.062 104.071 623.215 Q102.242 625.368 102.242 629.118 Q102.242 632.845 104.071 635.02 Q105.922 637.173 109.071 637.173 Q112.219 637.173 114.047 635.02 Q115.899 632.845 115.899 629.118 Q115.899 625.368 114.047 623.215 Q112.219 621.062 109.071 621.062 M118.353 606.409 L118.353 610.669 Q116.594 609.835 114.788 609.396 Q113.006 608.956 111.246 608.956 Q106.617 608.956 104.163 612.081 Q101.733 615.206 101.385 621.525 Q102.751 619.511 104.811 618.446 Q106.871 617.359 109.348 617.359 Q114.557 617.359 117.566 620.53 Q120.598 623.678 120.598 629.118 Q120.598 634.442 117.45 637.659 Q114.302 640.877 109.071 640.877 Q103.075 640.877 99.9039 636.294 Q96.7326 631.687 96.7326 622.96 Q96.7326 614.766 100.621 609.905 Q104.51 605.021 111.061 605.021 Q112.82 605.021 114.603 605.368 Q116.408 605.715 118.353 606.409 Z\" fill=\"#000000\" fill-rule=\"evenodd\" fill-opacity=\"1\" /><path clip-path=\"url(#clip390)\" d=\"M63.5152 320.884 Q59.9041 320.884 58.0754 324.448 Q56.2699 327.99 56.2699 335.12 Q56.2699 342.226 58.0754 345.791 Q59.9041 349.332 63.5152 349.332 Q67.1494 349.332 68.955 345.791 Q70.7837 342.226 70.7837 335.12 Q70.7837 327.99 68.955 324.448 Q67.1494 320.884 63.5152 320.884 M63.5152 317.18 Q69.3254 317.18 72.3809 321.786 Q75.4596 326.37 75.4596 335.12 Q75.4596 343.846 72.3809 348.453 Q69.3254 353.036 63.5152 353.036 Q57.7051 353.036 54.6264 348.453 Q51.5708 343.846 51.5708 335.12 Q51.5708 326.37 54.6264 321.786 Q57.7051 317.18 63.5152 317.18 Z\" fill=\"#000000\" fill-rule=\"evenodd\" fill-opacity=\"1\" /><path clip-path=\"url(#clip390)\" d=\"M83.6771 346.485 L88.5614 346.485 L88.5614 352.365 L83.6771 352.365 L83.6771 346.485 Z\" fill=\"#000000\" fill-rule=\"evenodd\" fill-opacity=\"1\" /><path clip-path=\"url(#clip390)\" d=\"M108.746 335.953 Q105.413 335.953 103.492 337.735 Q101.594 339.518 101.594 342.643 Q101.594 345.768 103.492 347.55 Q105.413 349.332 108.746 349.332 Q112.08 349.332 114.001 347.55 Q115.922 345.745 115.922 342.643 Q115.922 339.518 114.001 337.735 Q112.103 335.953 108.746 335.953 M104.071 333.962 Q101.061 333.221 99.3715 331.161 Q97.7048 329.101 97.7048 326.138 Q97.7048 321.995 100.645 319.587 Q103.608 317.18 108.746 317.18 Q113.908 317.18 116.848 319.587 Q119.788 321.995 119.788 326.138 Q119.788 329.101 118.098 331.161 Q116.432 333.221 113.445 333.962 Q116.825 334.749 118.7 337.041 Q120.598 339.333 120.598 342.643 Q120.598 347.666 117.52 350.351 Q114.464 353.036 108.746 353.036 Q103.029 353.036 99.9502 350.351 Q96.8947 347.666 96.8947 342.643 Q96.8947 339.333 98.7928 337.041 Q100.691 334.749 104.071 333.962 M102.358 326.578 Q102.358 329.263 104.024 330.768 Q105.714 332.272 108.746 332.272 Q111.756 332.272 113.445 330.768 Q115.158 329.263 115.158 326.578 Q115.158 323.893 113.445 322.388 Q111.756 320.884 108.746 320.884 Q105.714 320.884 104.024 322.388 Q102.358 323.893 102.358 326.578 Z\" fill=\"#000000\" fill-rule=\"evenodd\" fill-opacity=\"1\" /><path clip-path=\"url(#clip390)\" d=\"M54.2328 60.5889 L61.8717 60.5889 L61.8717 34.2233 L53.5616 35.89 L53.5616 31.6308 L61.8254 29.9641 L66.5013 29.9641 L66.5013 60.5889 L74.1402 60.5889 L74.1402 64.5241 L54.2328 64.5241 L54.2328 60.5889 Z\" fill=\"#000000\" fill-rule=\"evenodd\" fill-opacity=\"1\" /><path clip-path=\"url(#clip390)\" d=\"M83.5845 58.6445 L88.4688 58.6445 L88.4688 64.5241 L83.5845 64.5241 L83.5845 58.6445 Z\" fill=\"#000000\" fill-rule=\"evenodd\" fill-opacity=\"1\" /><path clip-path=\"url(#clip390)\" d=\"M108.654 33.0428 Q105.043 33.0428 103.214 36.6076 Q101.409 40.1492 101.409 47.2788 Q101.409 54.3853 103.214 57.9501 Q105.043 61.4917 108.654 61.4917 Q112.288 61.4917 114.094 57.9501 Q115.922 54.3853 115.922 47.2788 Q115.922 40.1492 114.094 36.6076 Q112.288 33.0428 108.654 33.0428 M108.654 29.3391 Q114.464 29.3391 117.52 33.9456 Q120.598 38.5289 120.598 47.2788 Q120.598 56.0056 117.52 60.6121 Q114.464 65.1954 108.654 65.1954 Q102.844 65.1954 99.765 60.6121 Q96.7095 56.0056 96.7095 47.2788 Q96.7095 38.5289 99.765 33.9456 Q102.844 29.3391 108.654 29.3391 Z\" fill=\"#000000\" fill-rule=\"evenodd\" fill-opacity=\"1\" /><polyline clip-path=\"url(#clip392)\" style=\"stroke:#009af9; stroke-linecap:round; stroke-linejoin:round; stroke-width:4; stroke-opacity:1; fill:none\" points=\"\n",
       "  218.754,51.9363 261.036,47.2441 303.319,47.2441 345.601,47.2441 387.884,47.2441 430.167,47.2441 472.449,47.2441 514.732,47.2441 557.014,47.2441 599.297,47.2441 \n",
       "  641.58,47.2441 683.862,47.2441 726.145,47.2441 768.427,47.2441 810.71,47.2441 852.992,47.2441 895.275,47.2441 937.558,47.2441 979.84,47.7565 1022.12,50.3046 \n",
       "  1064.41,57.6585 1106.69,59.2201 1148.97,84.6393 1191.25,129.828 1233.54,171.806 1275.82,292.665 1318.1,414.074 1360.38,526.987 1402.67,629.194 1444.95,771.971 \n",
       "  1487.23,840.074 1529.51,916.264 1571.8,947.223 1614.08,1010.54 1656.36,1055.13 1698.64,1095.29 1740.93,1128.37 1783.21,1155.22 1825.49,1179.37 1867.77,1192.98 \n",
       "  1910.06,1211.53 1952.34,1227.49 1994.62,1245.86 2036.9,1253.83 2079.19,1271.96 2121.47,1285.27 2163.75,1297.34 2206.04,1308.6 2248.32,1314.83 2290.6,1317.72 \n",
       "  \n",
       "  \"/>\n",
       "<path clip-path=\"url(#clip390)\" d=\"\n",
       "M2007.5 198.898 L2279.55 198.898 L2279.55 95.2176 L2007.5 95.2176  Z\n",
       "  \" fill=\"#ffffff\" fill-rule=\"evenodd\" fill-opacity=\"1\"/>\n",
       "<polyline clip-path=\"url(#clip390)\" style=\"stroke:#000000; stroke-linecap:round; stroke-linejoin:round; stroke-width:4; stroke-opacity:1; fill:none\" points=\"\n",
       "  2007.5,198.898 2279.55,198.898 2279.55,95.2176 2007.5,95.2176 2007.5,198.898 \n",
       "  \"/>\n",
       "<polyline clip-path=\"url(#clip390)\" style=\"stroke:#009af9; stroke-linecap:round; stroke-linejoin:round; stroke-width:4; stroke-opacity:1; fill:none\" points=\"\n",
       "  2031.91,147.058 2178.32,147.058 \n",
       "  \"/>\n",
       "<path clip-path=\"url(#clip390)\" d=\"M2216.56 166.745 Q2214.76 171.375 2213.04 172.787 Q2211.33 174.199 2208.46 174.199 L2205.06 174.199 L2205.06 170.634 L2207.56 170.634 Q2209.32 170.634 2210.29 169.8 Q2211.26 168.967 2212.44 165.865 L2213.2 163.921 L2202.72 138.412 L2207.23 138.412 L2215.33 158.689 L2223.44 138.412 L2227.95 138.412 L2216.56 166.745 Z\" fill=\"#000000\" fill-rule=\"evenodd\" fill-opacity=\"1\" /><path clip-path=\"url(#clip390)\" d=\"M2235.24 160.402 L2242.88 160.402 L2242.88 134.037 L2234.57 135.703 L2234.57 131.444 L2242.83 129.778 L2247.51 129.778 L2247.51 160.402 L2255.15 160.402 L2255.15 164.338 L2235.24 164.338 L2235.24 160.402 Z\" fill=\"#000000\" fill-rule=\"evenodd\" fill-opacity=\"1\" /></svg>\n"
      ]
     },
     "execution_count": 94,
     "metadata": {},
     "output_type": "execute_result"
    }
   ],
   "source": [
    "plot(1:50, mList)\n",
    "ylims!(0.0, 1.0)"
   ]
  },
  {
   "cell_type": "code",
   "execution_count": null,
   "id": "4d766b3c",
   "metadata": {},
   "outputs": [],
   "source": []
  }
 ],
 "metadata": {
  "kernelspec": {
   "display_name": "Julia 1.8.4",
   "language": "julia",
   "name": "julia-1.8"
  },
  "language_info": {
   "file_extension": ".jl",
   "mimetype": "application/julia",
   "name": "julia",
   "version": "1.8.4"
  }
 },
 "nbformat": 4,
 "nbformat_minor": 5
}
