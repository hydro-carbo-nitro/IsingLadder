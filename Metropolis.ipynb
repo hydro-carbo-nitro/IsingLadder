{
 "cells": [
  {
   "cell_type": "markdown",
   "id": "18f6df5f",
   "metadata": {},
   "source": [
    "# Ising spins on a ladder"
   ]
  },
  {
   "cell_type": "markdown",
   "id": "f0440724",
   "metadata": {},
   "source": [
    "$$\n",
    "-\\beta\\mathcal{H} = K\\sum^2_{n=1}\\sum^M_{m=1}(S_{m,n}S_{m+1,n} + S_{m,n}S_{m,n+1})\n",
    "$$\n",
    "with periodic boundary condition"
   ]
  },
  {
   "cell_type": "code",
   "execution_count": 1,
   "id": "3cad8f7d",
   "metadata": {},
   "outputs": [
    {
     "name": "stdout",
     "output_type": "stream",
     "text": [
      "\n"
     ]
    }
   ],
   "source": [
    "using Random\n",
    "using StatsBase\n",
    "\n",
    "TList = collect(range(start=0.1, stop=5.0, length=50))\n",
    "const MCstep = 10000\n",
    "const K = 1.0\n",
    "\n",
    "const length = 4    # length of ladder\n",
    "const N = length * 2 # number of site on ladder\n",
    "\n",
    "println(\"\")"
   ]
  },
  {
   "cell_type": "markdown",
   "id": "1b57361a",
   "metadata": {},
   "source": [
    "## Initiate Lattice"
   ]
  },
  {
   "cell_type": "code",
   "execution_count": 83,
   "id": "b3f61d24",
   "metadata": {},
   "outputs": [
    {
     "data": {
      "text/plain": [
       "InitLattice (generic function with 2 methods)"
      ]
     },
     "execution_count": 83,
     "metadata": {},
     "output_type": "execute_result"
    }
   ],
   "source": [
    "function InitLattice(N)\n",
    "    #Lattice = ones(Int8, N) # all site is up\n",
    "    #Lattice = -1 * ones(Int8, N) # all site is down\n",
    "    #Lattice = sample([-1, 1], Weights([1, 1]), N) # all site random\n",
    "    Lattice = collect(1:N) # for debug\n",
    "    \n",
    "    return Lattice\n",
    "end"
   ]
  },
  {
   "cell_type": "code",
   "execution_count": 84,
   "id": "5e1ed6ca",
   "metadata": {},
   "outputs": [
    {
     "data": {
      "text/plain": [
       "PeriodicBoundaryCondition (generic function with 1 method)"
      ]
     },
     "execution_count": 84,
     "metadata": {},
     "output_type": "execute_result"
    }
   ],
   "source": [
    "function PeriodicBoundaryCondition(row, col)\n",
    "    # All site has 3 of degrees\n",
    "    adj = zeros(Int8, (row*col, 3))\n",
    "    \n",
    "    for i = 1:row\n",
    "        for j = 1:col\n",
    "            idx = (i-1)*row + j\n",
    "            #Horizontal\n",
    "            adj[idx, 1] = (i-1)*col + ((j + col) % col + 1)\n",
    "            adj[idx, 2] = (i-1)*col + ((j + col - 2) % col + 1)\n",
    "            #Vertical\n",
    "            if i==1\n",
    "                tmp3 = col + j\n",
    "                adj[idx, 3] = col + j\n",
    "            end\n",
    "            if i==2\n",
    "                tmp3 = j\n",
    "                adj[idx, 3] = j\n",
    "            end\n",
    "        end\n",
    "    end                \n",
    "    return adj\n",
    "end             "
   ]
  },
  {
   "cell_type": "code",
   "execution_count": 85,
   "id": "1beb546f",
   "metadata": {},
   "outputs": [
    {
     "data": {
      "text/plain": [
       "calcE (generic function with 1 method)"
      ]
     },
     "execution_count": 85,
     "metadata": {},
     "output_type": "execute_result"
    }
   ],
   "source": [
    "function calcE(Lattice, row, col, i, j)\n",
    "    E = 0\n",
    "    E += Lattice[i][j] * Lattice[i][(col + j + 1) % col + 1] #East\n",
    "    E += Lattice[i][j] * Lattice[i][(col + j - 1) % col + 1] #West\n",
    "    E += Lattice[i][j] * Lattice[(row + i + 1) % row + 1][j] #South\n",
    "    E += Lattice[i][j] * Lattice[(row + i - 1) % row + 1][j] #North\n",
    "    return E\n",
    "end"
   ]
  },
  {
   "cell_type": "code",
   "execution_count": 86,
   "id": "022b9166",
   "metadata": {},
   "outputs": [
    {
     "data": {
      "text/plain": [
       "FlipSpin (generic function with 1 method)"
      ]
     },
     "execution_count": 86,
     "metadata": {},
     "output_type": "execute_result"
    }
   ],
   "source": [
    "function FlipSpin(Lattice, row, col)\n",
    "    i, j = rand(1:length), rand(1:2)\n",
    "    E = calcE(Lattice, length, 2, i, j)\n",
    "end"
   ]
  },
  {
   "cell_type": "code",
   "execution_count": 87,
   "id": "80073331",
   "metadata": {},
   "outputs": [
    {
     "data": {
      "text/plain": [
       "\"for T in TList\\n    for step 1:MCstep\\n        mag = 0.0\\n        FlipSpin(Lattice, length, mag)\\n\\n    end\\nend\\n\""
      ]
     },
     "execution_count": 87,
     "metadata": {},
     "output_type": "execute_result"
    }
   ],
   "source": [
    "Lattice = InitLattice(N)\n",
    "adj = PeriodicBoundaryCondition(2, length)\n",
    "#E = calcE(Lattice, 2, length, 1, 1)\n",
    "\"\"\"\n",
    "for T in TList\n",
    "    for step 1:MCstep\n",
    "        mag = 0.0\n",
    "        FlipSpin(Lattice, length, mag)\n",
    "\n",
    "    end\n",
    "end\n",
    "\"\"\""
   ]
  },
  {
   "cell_type": "code",
   "execution_count": null,
   "id": "f3258be9",
   "metadata": {},
   "outputs": [],
   "source": []
  }
 ],
 "metadata": {
  "kernelspec": {
   "display_name": "Julia 1.8.4",
   "language": "julia",
   "name": "julia-1.8"
  },
  "language_info": {
   "file_extension": ".jl",
   "mimetype": "application/julia",
   "name": "julia",
   "version": "1.8.4"
  }
 },
 "nbformat": 4,
 "nbformat_minor": 5
}
